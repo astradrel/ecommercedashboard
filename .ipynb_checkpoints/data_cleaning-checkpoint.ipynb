{
 "cells": [
  {
   "attachments": {},
   "cell_type": "markdown",
   "id": "7d7e5412",
   "metadata": {},
   "source": [
    "<img src=\"images/astradrel_ecommerce.png\" style=\"height: 100px;\" align=left> \n",
    "<img src=\"images/python_logo.png\" style=\"height: 100px;\" align=right> "
   ]
  },
  {
   "cell_type": "markdown",
   "id": "613b0d82",
   "metadata": {},
   "source": [
    "This notebook perform data cleaning and transformation on raw dataset provided. The modified dataset were then converted into .csv format and loaded into Tableau for visualization purpose"
   ]
  },
  {
   "cell_type": "code",
   "execution_count": 2,
   "id": "7f4ad606",
   "metadata": {},
   "outputs": [],
   "source": [
    "# Import the necessary libraries\n",
    "\n",
    "import pandas as pd\n",
    "import numpy as np\n",
    "import os"
   ]
  },
  {
   "cell_type": "markdown",
   "id": "ff5438b3",
   "metadata": {},
   "source": [
    "## Data Cleaning"
   ]
  },
  {
   "cell_type": "code",
   "execution_count": 3,
   "id": "74c92076",
   "metadata": {},
   "outputs": [
    {
     "data": {
      "text/plain": [
       "'C:\\\\Users\\\\astra\\\\Desktop\\\\CADS Datastar\\\\StatWorks\\\\Statworks Data Analyst Assessement'"
      ]
     },
     "execution_count": 3,
     "metadata": {},
     "output_type": "execute_result"
    }
   ],
   "source": [
    "os.getcwd()"
   ]
  },
  {
   "cell_type": "code",
   "execution_count": 3,
   "id": "f3c86500",
   "metadata": {},
   "outputs": [],
   "source": [
    "df_sales = pd.read_excel(\"raw_dataset/SalesData.xlsx\")"
   ]
  },
  {
   "cell_type": "code",
   "execution_count": 4,
   "id": "7e9c1fd6",
   "metadata": {},
   "outputs": [],
   "source": [
    "column_list = list(df_sales.columns)"
   ]
  },
  {
   "cell_type": "code",
   "execution_count": 5,
   "id": "68f0cef4",
   "metadata": {
    "scrolled": false
   },
   "outputs": [
    {
     "data": {
      "text/plain": [
       "['Record No',\n",
       " 'Order Id',\n",
       " 'Name',\n",
       " 'State',\n",
       " 'Region',\n",
       " 'Sales Total',\n",
       " 'Gross Profit',\n",
       " 'Discount',\n",
       " 'Business Unit',\n",
       " 'Product Group',\n",
       " 'Product Line',\n",
       " 'Product',\n",
       " 'Order Priority',\n",
       " 'Order Date',\n",
       " 'Delivery Date',\n",
       " 'Delivery Time',\n",
       " 'Ship Container',\n",
       " 'Market Segment',\n",
       " 'Shipping Method',\n",
       " 'Inventory Status',\n",
       " 'Forecast Month',\n",
       " 'Forecast Quarter',\n",
       " 'Transaction (2)',\n",
       " 'Filtered to at 9:47:57 AM (2)',\n",
       " 'Profit Status (2)',\n",
       " 'Gross Profit Percentage (2)',\n",
       " 'Sales Total (Numeric) (2)',\n",
       " 'Gross Profit (Numeric) (2)',\n",
       " 'Loss Leaders vs Losers (2)',\n",
       " 'Filtered out at 9:47:41 AM (2)',\n",
       " 'Next Action (2)',\n",
       " 'Profit as a Percent of Sales (2)',\n",
       " 'Sales Total Percent Format (2)',\n",
       " 'Gross Profit Percent Format (2)',\n",
       " 'Comparison Period (2)',\n",
       " 'Volume (2)',\n",
       " 'Transaction (3)',\n",
       " 'Time Period (2)',\n",
       " 'Product hierarchy (2)',\n",
       " 'Filtered to at 9:47:57 AM (3)',\n",
       " 'Profit Status (3)',\n",
       " 'Gross Profit Percentage (3)',\n",
       " 'Sales Total (Numeric) (3)',\n",
       " 'Gross Profit (Numeric) (3)',\n",
       " 'Loss Leaders vs Losers (3)',\n",
       " 'Filtered out at 2:36:28 PM (2)',\n",
       " 'Next Action (3)',\n",
       " 'Profit as a Percent of Sales (3)',\n",
       " 'Sales Total Percent Format (3)',\n",
       " 'Gross Profit Percent Format (3)',\n",
       " 'Comparison Period (3)',\n",
       " 'Volume (3)',\n",
       " 'Products (2)',\n",
       " 'Transaction',\n",
       " 'Profit Status',\n",
       " 'Gross Profit Percentage',\n",
       " 'Sales Total (Numeric)',\n",
       " 'Gross Profit (Numeric)',\n",
       " 'Loss Leaders vs Losers',\n",
       " 'Next Action',\n",
       " 'Profit as a Percent of Sales',\n",
       " 'Sales Total Percent Format',\n",
       " 'Gross Profit Percent Format',\n",
       " 'Comparison Period',\n",
       " 'Volume']"
      ]
     },
     "execution_count": 5,
     "metadata": {},
     "output_type": "execute_result"
    }
   ],
   "source": [
    "column_list"
   ]
  },
  {
   "cell_type": "code",
   "execution_count": 6,
   "id": "816ce888",
   "metadata": {},
   "outputs": [
    {
     "data": {
      "text/html": [
       "<div>\n",
       "<style scoped>\n",
       "    .dataframe tbody tr th:only-of-type {\n",
       "        vertical-align: middle;\n",
       "    }\n",
       "\n",
       "    .dataframe tbody tr th {\n",
       "        vertical-align: top;\n",
       "    }\n",
       "\n",
       "    .dataframe thead th {\n",
       "        text-align: right;\n",
       "    }\n",
       "</style>\n",
       "<table border=\"1\" class=\"dataframe\">\n",
       "  <thead>\n",
       "    <tr style=\"text-align: right;\">\n",
       "      <th></th>\n",
       "      <th>Record No</th>\n",
       "      <th>Order Id</th>\n",
       "      <th>Name</th>\n",
       "      <th>State</th>\n",
       "      <th>Region</th>\n",
       "      <th>Sales Total</th>\n",
       "      <th>Gross Profit</th>\n",
       "      <th>Discount</th>\n",
       "      <th>Business Unit</th>\n",
       "      <th>Product Group</th>\n",
       "      <th>...</th>\n",
       "      <th>Gross Profit Percentage</th>\n",
       "      <th>Sales Total (Numeric)</th>\n",
       "      <th>Gross Profit (Numeric)</th>\n",
       "      <th>Loss Leaders vs Losers</th>\n",
       "      <th>Next Action</th>\n",
       "      <th>Profit as a Percent of Sales</th>\n",
       "      <th>Sales Total Percent Format</th>\n",
       "      <th>Gross Profit Percent Format</th>\n",
       "      <th>Comparison Period</th>\n",
       "      <th>Volume</th>\n",
       "    </tr>\n",
       "  </thead>\n",
       "  <tbody>\n",
       "    <tr>\n",
       "      <th>0</th>\n",
       "      <td>1</td>\n",
       "      <td>10000</td>\n",
       "      <td>Gilberto Matrejek</td>\n",
       "      <td>Mississippi</td>\n",
       "      <td>E S Cen</td>\n",
       "      <td>2302</td>\n",
       "      <td>1067.59</td>\n",
       "      <td>0.00</td>\n",
       "      <td>Technology</td>\n",
       "      <td>Computer Peripherals</td>\n",
       "      <td>...</td>\n",
       "      <td>1067.59</td>\n",
       "      <td>2302</td>\n",
       "      <td>1067.59</td>\n",
       "      <td>NaN</td>\n",
       "      <td>NaN</td>\n",
       "      <td>0.446614</td>\n",
       "      <td>2302</td>\n",
       "      <td>1067.59</td>\n",
       "      <td>Prior to Change</td>\n",
       "      <td>1</td>\n",
       "    </tr>\n",
       "    <tr>\n",
       "      <th>1</th>\n",
       "      <td>2</td>\n",
       "      <td>10000</td>\n",
       "      <td>Gilberto Matrejek</td>\n",
       "      <td>Mississippi</td>\n",
       "      <td>E S Cen</td>\n",
       "      <td>997</td>\n",
       "      <td>358.35</td>\n",
       "      <td>0.10</td>\n",
       "      <td>Technology</td>\n",
       "      <td>Computer Peripherals</td>\n",
       "      <td>...</td>\n",
       "      <td>358.35</td>\n",
       "      <td>997</td>\n",
       "      <td>358.35</td>\n",
       "      <td>NaN</td>\n",
       "      <td>NaN</td>\n",
       "      <td>0.394269</td>\n",
       "      <td>997</td>\n",
       "      <td>358.35</td>\n",
       "      <td>Prior to Change</td>\n",
       "      <td>1</td>\n",
       "    </tr>\n",
       "    <tr>\n",
       "      <th>2</th>\n",
       "      <td>3</td>\n",
       "      <td>10000</td>\n",
       "      <td>Gilberto Matrejek</td>\n",
       "      <td>Mississippi</td>\n",
       "      <td>E S Cen</td>\n",
       "      <td>2565</td>\n",
       "      <td>873.96</td>\n",
       "      <td>0.07</td>\n",
       "      <td>Technology</td>\n",
       "      <td>Telephones And Communication</td>\n",
       "      <td>...</td>\n",
       "      <td>873.96</td>\n",
       "      <td>2565</td>\n",
       "      <td>873.96</td>\n",
       "      <td>NaN</td>\n",
       "      <td>NaN</td>\n",
       "      <td>0.329563</td>\n",
       "      <td>2565</td>\n",
       "      <td>873.96</td>\n",
       "      <td>Prior to Change</td>\n",
       "      <td>1</td>\n",
       "    </tr>\n",
       "    <tr>\n",
       "      <th>3</th>\n",
       "      <td>4</td>\n",
       "      <td>10001</td>\n",
       "      <td>Caleb Weinbauer</td>\n",
       "      <td>Connecticut</td>\n",
       "      <td>N Eng</td>\n",
       "      <td>227</td>\n",
       "      <td>43.64</td>\n",
       "      <td>0.12</td>\n",
       "      <td>Office Supplies</td>\n",
       "      <td>Binders And Binder Accessories</td>\n",
       "      <td>...</td>\n",
       "      <td>43.64</td>\n",
       "      <td>227</td>\n",
       "      <td>43.64</td>\n",
       "      <td>NaN</td>\n",
       "      <td>NaN</td>\n",
       "      <td>0.214153</td>\n",
       "      <td>227</td>\n",
       "      <td>43.64</td>\n",
       "      <td>Prior to Change</td>\n",
       "      <td>1</td>\n",
       "    </tr>\n",
       "    <tr>\n",
       "      <th>4</th>\n",
       "      <td>5</td>\n",
       "      <td>10002</td>\n",
       "      <td>Ardith Carnero</td>\n",
       "      <td>Florida</td>\n",
       "      <td>S Atl</td>\n",
       "      <td>160</td>\n",
       "      <td>-107.36</td>\n",
       "      <td>0.10</td>\n",
       "      <td>Office Supplies</td>\n",
       "      <td>Paper</td>\n",
       "      <td>...</td>\n",
       "      <td>-107.36</td>\n",
       "      <td>160</td>\n",
       "      <td>-107.36</td>\n",
       "      <td>NaN</td>\n",
       "      <td>NaN</td>\n",
       "      <td>-0.557876</td>\n",
       "      <td>160</td>\n",
       "      <td>-107.36</td>\n",
       "      <td>Prior to Change</td>\n",
       "      <td>1</td>\n",
       "    </tr>\n",
       "  </tbody>\n",
       "</table>\n",
       "<p>5 rows × 65 columns</p>\n",
       "</div>"
      ],
      "text/plain": [
       "   Record No  Order Id               Name        State   Region  Sales Total  \\\n",
       "0          1     10000  Gilberto Matrejek  Mississippi  E S Cen         2302   \n",
       "1          2     10000  Gilberto Matrejek  Mississippi  E S Cen          997   \n",
       "2          3     10000  Gilberto Matrejek  Mississippi  E S Cen         2565   \n",
       "3          4     10001    Caleb Weinbauer  Connecticut    N Eng          227   \n",
       "4          5     10002     Ardith Carnero      Florida    S Atl          160   \n",
       "\n",
       "   Gross Profit  Discount    Business Unit                   Product Group  \\\n",
       "0       1067.59      0.00       Technology            Computer Peripherals   \n",
       "1        358.35      0.10       Technology            Computer Peripherals   \n",
       "2        873.96      0.07       Technology    Telephones And Communication   \n",
       "3         43.64      0.12  Office Supplies  Binders And Binder Accessories   \n",
       "4       -107.36      0.10  Office Supplies                           Paper   \n",
       "\n",
       "   ... Gross Profit Percentage Sales Total (Numeric) Gross Profit (Numeric)  \\\n",
       "0  ...                 1067.59                  2302                1067.59   \n",
       "1  ...                  358.35                   997                 358.35   \n",
       "2  ...                  873.96                  2565                 873.96   \n",
       "3  ...                   43.64                   227                  43.64   \n",
       "4  ...                 -107.36                   160                -107.36   \n",
       "\n",
       "  Loss Leaders vs Losers Next Action  Profit as a Percent of Sales  \\\n",
       "0                    NaN         NaN                      0.446614   \n",
       "1                    NaN         NaN                      0.394269   \n",
       "2                    NaN         NaN                      0.329563   \n",
       "3                    NaN         NaN                      0.214153   \n",
       "4                    NaN         NaN                     -0.557876   \n",
       "\n",
       "  Sales Total Percent Format Gross Profit Percent Format Comparison Period  \\\n",
       "0                       2302                     1067.59   Prior to Change   \n",
       "1                        997                      358.35   Prior to Change   \n",
       "2                       2565                      873.96   Prior to Change   \n",
       "3                        227                       43.64   Prior to Change   \n",
       "4                        160                     -107.36   Prior to Change   \n",
       "\n",
       "  Volume  \n",
       "0      1  \n",
       "1      1  \n",
       "2      1  \n",
       "3      1  \n",
       "4      1  \n",
       "\n",
       "[5 rows x 65 columns]"
      ]
     },
     "execution_count": 6,
     "metadata": {},
     "output_type": "execute_result"
    }
   ],
   "source": [
    "df_sales.head()"
   ]
  },
  {
   "cell_type": "code",
   "execution_count": 7,
   "id": "bede8522",
   "metadata": {},
   "outputs": [
    {
     "name": "stdout",
     "output_type": "stream",
     "text": [
      "<class 'pandas.core.frame.DataFrame'>\n",
      "RangeIndex: 28360 entries, 0 to 28359\n",
      "Data columns (total 65 columns):\n",
      " #   Column                            Non-Null Count  Dtype         \n",
      "---  ------                            --------------  -----         \n",
      " 0   Record No                         28360 non-null  int64         \n",
      " 1   Order Id                          28360 non-null  int64         \n",
      " 2   Name                              28360 non-null  object        \n",
      " 3   State                             28360 non-null  object        \n",
      " 4   Region                            28360 non-null  object        \n",
      " 5   Sales Total                       28360 non-null  int64         \n",
      " 6   Gross Profit                      28360 non-null  float64       \n",
      " 7   Discount                          28360 non-null  float64       \n",
      " 8   Business Unit                     28360 non-null  object        \n",
      " 9   Product Group                     28360 non-null  object        \n",
      " 10  Product Line                      28360 non-null  object        \n",
      " 11  Product                           28360 non-null  object        \n",
      " 12  Order Priority                    28360 non-null  object        \n",
      " 13  Order Date                        28360 non-null  datetime64[ns]\n",
      " 14  Delivery Date                     28360 non-null  datetime64[ns]\n",
      " 15  Delivery Time                     28360 non-null  int64         \n",
      " 16  Ship Container                    28360 non-null  object        \n",
      " 17  Market Segment                    28360 non-null  object        \n",
      " 18  Shipping Method                   28360 non-null  object        \n",
      " 19  Inventory Status                  28360 non-null  object        \n",
      " 20  Forecast Month                    28360 non-null  int64         \n",
      " 21  Forecast Quarter                  28360 non-null  int64         \n",
      " 22  Transaction (2)                   28360 non-null  int64         \n",
      " 23  Filtered to at 9:47:57 AM (2)     0 non-null      float64       \n",
      " 24  Profit Status (2)                 0 non-null      float64       \n",
      " 25  Gross Profit Percentage (2)       28360 non-null  float64       \n",
      " 26  Sales Total (Numeric) (2)         28360 non-null  int64         \n",
      " 27  Gross Profit (Numeric) (2)        28360 non-null  float64       \n",
      " 28  Loss Leaders vs Losers (2)        0 non-null      float64       \n",
      " 29  Filtered out at 9:47:41 AM (2)    0 non-null      float64       \n",
      " 30  Next Action (2)                   0 non-null      float64       \n",
      " 31  Profit as a Percent of Sales (2)  28360 non-null  float64       \n",
      " 32  Sales Total Percent Format (2)    28360 non-null  int64         \n",
      " 33  Gross Profit Percent Format (2)   28360 non-null  float64       \n",
      " 34  Comparison Period (2)             28360 non-null  object        \n",
      " 35  Volume (2)                        28360 non-null  int64         \n",
      " 36  Transaction (3)                   28360 non-null  int64         \n",
      " 37  Time Period (2)                   28360 non-null  object        \n",
      " 38  Product hierarchy (2)             28360 non-null  object        \n",
      " 39  Filtered to at 9:47:57 AM (3)     0 non-null      float64       \n",
      " 40  Profit Status (3)                 0 non-null      float64       \n",
      " 41  Gross Profit Percentage (3)       28360 non-null  float64       \n",
      " 42  Sales Total (Numeric) (3)         28360 non-null  int64         \n",
      " 43  Gross Profit (Numeric) (3)        28360 non-null  float64       \n",
      " 44  Loss Leaders vs Losers (3)        0 non-null      float64       \n",
      " 45  Filtered out at 2:36:28 PM (2)    28360 non-null  object        \n",
      " 46  Next Action (3)                   0 non-null      float64       \n",
      " 47  Profit as a Percent of Sales (3)  28360 non-null  float64       \n",
      " 48  Sales Total Percent Format (3)    28360 non-null  int64         \n",
      " 49  Gross Profit Percent Format (3)   28360 non-null  float64       \n",
      " 50  Comparison Period (3)             28360 non-null  object        \n",
      " 51  Volume (3)                        28360 non-null  int64         \n",
      " 52  Products (2)                      28360 non-null  object        \n",
      " 53  Transaction                       28360 non-null  int64         \n",
      " 54  Profit Status                     0 non-null      float64       \n",
      " 55  Gross Profit Percentage           28360 non-null  float64       \n",
      " 56  Sales Total (Numeric)             28360 non-null  int64         \n",
      " 57  Gross Profit (Numeric)            28360 non-null  float64       \n",
      " 58  Loss Leaders vs Losers            0 non-null      float64       \n",
      " 59  Next Action                       0 non-null      float64       \n",
      " 60  Profit as a Percent of Sales      28360 non-null  float64       \n",
      " 61  Sales Total Percent Format        28360 non-null  int64         \n",
      " 62  Gross Profit Percent Format       28360 non-null  float64       \n",
      " 63  Comparison Period                 28360 non-null  object        \n",
      " 64  Volume                            28360 non-null  int64         \n",
      "dtypes: datetime64[ns](2), float64(26), int64(18), object(19)\n",
      "memory usage: 14.1+ MB\n"
     ]
    }
   ],
   "source": [
    "df_sales.info()"
   ]
  },
  {
   "cell_type": "code",
   "execution_count": 8,
   "id": "6a393189",
   "metadata": {},
   "outputs": [
    {
     "data": {
      "text/plain": [
       "Record No                       0\n",
       "Order Id                        0\n",
       "Name                            0\n",
       "State                           0\n",
       "Region                          0\n",
       "                               ..\n",
       "Profit as a Percent of Sales    0\n",
       "Sales Total Percent Format      0\n",
       "Gross Profit Percent Format     0\n",
       "Comparison Period               0\n",
       "Volume                          0\n",
       "Length: 65, dtype: int64"
      ]
     },
     "execution_count": 8,
     "metadata": {},
     "output_type": "execute_result"
    }
   ],
   "source": [
    "# drop columns that contain missing values\n",
    "df_sales.isna().sum()"
   ]
  },
  {
   "cell_type": "code",
   "execution_count": 9,
   "id": "77c24e3f",
   "metadata": {},
   "outputs": [],
   "source": [
    "df_sales_modified = df_sales.dropna(axis=1,how='all')"
   ]
  },
  {
   "cell_type": "code",
   "execution_count": 10,
   "id": "ff3544b4",
   "metadata": {},
   "outputs": [
    {
     "name": "stdout",
     "output_type": "stream",
     "text": [
      "<class 'pandas.core.frame.DataFrame'>\n",
      "RangeIndex: 28360 entries, 0 to 28359\n",
      "Data columns (total 53 columns):\n",
      " #   Column                            Non-Null Count  Dtype         \n",
      "---  ------                            --------------  -----         \n",
      " 0   Record No                         28360 non-null  int64         \n",
      " 1   Order Id                          28360 non-null  int64         \n",
      " 2   Name                              28360 non-null  object        \n",
      " 3   State                             28360 non-null  object        \n",
      " 4   Region                            28360 non-null  object        \n",
      " 5   Sales Total                       28360 non-null  int64         \n",
      " 6   Gross Profit                      28360 non-null  float64       \n",
      " 7   Discount                          28360 non-null  float64       \n",
      " 8   Business Unit                     28360 non-null  object        \n",
      " 9   Product Group                     28360 non-null  object        \n",
      " 10  Product Line                      28360 non-null  object        \n",
      " 11  Product                           28360 non-null  object        \n",
      " 12  Order Priority                    28360 non-null  object        \n",
      " 13  Order Date                        28360 non-null  datetime64[ns]\n",
      " 14  Delivery Date                     28360 non-null  datetime64[ns]\n",
      " 15  Delivery Time                     28360 non-null  int64         \n",
      " 16  Ship Container                    28360 non-null  object        \n",
      " 17  Market Segment                    28360 non-null  object        \n",
      " 18  Shipping Method                   28360 non-null  object        \n",
      " 19  Inventory Status                  28360 non-null  object        \n",
      " 20  Forecast Month                    28360 non-null  int64         \n",
      " 21  Forecast Quarter                  28360 non-null  int64         \n",
      " 22  Transaction (2)                   28360 non-null  int64         \n",
      " 23  Gross Profit Percentage (2)       28360 non-null  float64       \n",
      " 24  Sales Total (Numeric) (2)         28360 non-null  int64         \n",
      " 25  Gross Profit (Numeric) (2)        28360 non-null  float64       \n",
      " 26  Profit as a Percent of Sales (2)  28360 non-null  float64       \n",
      " 27  Sales Total Percent Format (2)    28360 non-null  int64         \n",
      " 28  Gross Profit Percent Format (2)   28360 non-null  float64       \n",
      " 29  Comparison Period (2)             28360 non-null  object        \n",
      " 30  Volume (2)                        28360 non-null  int64         \n",
      " 31  Transaction (3)                   28360 non-null  int64         \n",
      " 32  Time Period (2)                   28360 non-null  object        \n",
      " 33  Product hierarchy (2)             28360 non-null  object        \n",
      " 34  Gross Profit Percentage (3)       28360 non-null  float64       \n",
      " 35  Sales Total (Numeric) (3)         28360 non-null  int64         \n",
      " 36  Gross Profit (Numeric) (3)        28360 non-null  float64       \n",
      " 37  Filtered out at 2:36:28 PM (2)    28360 non-null  object        \n",
      " 38  Profit as a Percent of Sales (3)  28360 non-null  float64       \n",
      " 39  Sales Total Percent Format (3)    28360 non-null  int64         \n",
      " 40  Gross Profit Percent Format (3)   28360 non-null  float64       \n",
      " 41  Comparison Period (3)             28360 non-null  object        \n",
      " 42  Volume (3)                        28360 non-null  int64         \n",
      " 43  Products (2)                      28360 non-null  object        \n",
      " 44  Transaction                       28360 non-null  int64         \n",
      " 45  Gross Profit Percentage           28360 non-null  float64       \n",
      " 46  Sales Total (Numeric)             28360 non-null  int64         \n",
      " 47  Gross Profit (Numeric)            28360 non-null  float64       \n",
      " 48  Profit as a Percent of Sales      28360 non-null  float64       \n",
      " 49  Sales Total Percent Format        28360 non-null  int64         \n",
      " 50  Gross Profit Percent Format       28360 non-null  float64       \n",
      " 51  Comparison Period                 28360 non-null  object        \n",
      " 52  Volume                            28360 non-null  int64         \n",
      "dtypes: datetime64[ns](2), float64(14), int64(18), object(19)\n",
      "memory usage: 11.5+ MB\n"
     ]
    }
   ],
   "source": [
    "df_sales_modified.info()"
   ]
  },
  {
   "cell_type": "code",
   "execution_count": 11,
   "id": "bee447f5",
   "metadata": {},
   "outputs": [],
   "source": [
    "# Columns that needed to be dropped due to redundancy and duplication\n",
    "\n",
    "dropped_columns = ['Transaction (2)', 'Gross Profit Percentage (2)', 'Sales Total (Numeric) (2)', \n",
    "    'Gross Profit (Numeric) (2)', 'Profit as a Percent of Sales (2)', 'Filtered out at 2:36:28 PM (2)', \n",
    "    'Sales Total Percent Format (2)', 'Gross Profit Percent Format (2)', \n",
    "    'Comparison Period (2)', 'Volume (2)', 'Transaction (3)', 'Time Period (2)', 'Product hierarchy (2)', \n",
    "    'Gross Profit Percentage (3)', 'Sales Total (Numeric) (3)', 'Gross Profit (Numeric) (3)',  \n",
    "    'Profit as a Percent of Sales (3)', 'Sales Total Percent Format (3)', 'Gross Profit Percent Format (3)', 'Comparison Period (3)', 'Volume (3)', \n",
    "    'Products (2)', 'Transaction', 'Gross Profit Percentage', 'Sales Total (Numeric)', 'Gross Profit (Numeric)', \n",
    "    'Sales Total Percent Format', 'Gross Profit Percent Format', 'Volume', 'Inventory Status', 'Comparison Period',\n",
    "    'Delivery Time', 'Forecast Month', 'Forecast Quarter']\n",
    "\n",
    "df_sales_modified = df_sales_modified.drop(columns=dropped_columns,axis=1)"
   ]
  },
  {
   "cell_type": "code",
   "execution_count": 12,
   "id": "c2ff16f4",
   "metadata": {},
   "outputs": [
    {
     "name": "stdout",
     "output_type": "stream",
     "text": [
      "The total number of columns before the removal is 65\n",
      "The total number of columns after the removal is 19\n"
     ]
    }
   ],
   "source": [
    "# With the removal of the unnecessary columns from the dataset, the dataset only retain the relevant informations\n",
    "\n",
    "print(\"The total number of columns before the removal is {}\".format(df_sales.shape[1]))\n",
    "print(\"The total number of columns after the removal is {}\".format(df_sales_modified.shape[1]))"
   ]
  },
  {
   "cell_type": "code",
   "execution_count": 13,
   "id": "231f9978",
   "metadata": {},
   "outputs": [
    {
     "data": {
      "text/plain": [
       "['5-LOW', '3-MEDIUM', '4-NOT SPECIFIED', '2-HIGH', '1-URGENT']"
      ]
     },
     "execution_count": 13,
     "metadata": {},
     "output_type": "execute_result"
    }
   ],
   "source": [
    "# Lets change the value for the order priority to be standardized with the rest of datasets\n",
    "\n",
    "value_change = list(df_sales_modified['Order Priority'].unique())\n",
    "value_change"
   ]
  },
  {
   "cell_type": "code",
   "execution_count": 14,
   "id": "c8c57468",
   "metadata": {},
   "outputs": [],
   "source": [
    "value_new = ['Low', 'Medium', 'Unspecified', 'High', 'Urgent']\n",
    "df_sales_modified['Order Priority'] = df_sales_modified['Order Priority'].replace(value_change,value_new)"
   ]
  },
  {
   "cell_type": "code",
   "execution_count": 15,
   "id": "f24d646d",
   "metadata": {},
   "outputs": [
    {
     "name": "stdout",
     "output_type": "stream",
     "text": [
      "<class 'pandas.core.frame.DataFrame'>\n",
      "RangeIndex: 28360 entries, 0 to 28359\n",
      "Data columns (total 19 columns):\n",
      " #   Column                        Non-Null Count  Dtype         \n",
      "---  ------                        --------------  -----         \n",
      " 0   Record No                     28360 non-null  int64         \n",
      " 1   Order Id                      28360 non-null  int64         \n",
      " 2   Name                          28360 non-null  object        \n",
      " 3   State                         28360 non-null  object        \n",
      " 4   Region                        28360 non-null  object        \n",
      " 5   Sales Total                   28360 non-null  int64         \n",
      " 6   Gross Profit                  28360 non-null  float64       \n",
      " 7   Discount                      28360 non-null  float64       \n",
      " 8   Business Unit                 28360 non-null  object        \n",
      " 9   Product Group                 28360 non-null  object        \n",
      " 10  Product Line                  28360 non-null  object        \n",
      " 11  Product                       28360 non-null  object        \n",
      " 12  Order Priority                28360 non-null  object        \n",
      " 13  Order Date                    28360 non-null  datetime64[ns]\n",
      " 14  Delivery Date                 28360 non-null  datetime64[ns]\n",
      " 15  Ship Container                28360 non-null  object        \n",
      " 16  Market Segment                28360 non-null  object        \n",
      " 17  Shipping Method               28360 non-null  object        \n",
      " 18  Profit as a Percent of Sales  28360 non-null  float64       \n",
      "dtypes: datetime64[ns](2), float64(3), int64(3), object(11)\n",
      "memory usage: 4.1+ MB\n"
     ]
    }
   ],
   "source": [
    "df_sales_modified.info()"
   ]
  },
  {
   "cell_type": "code",
   "execution_count": 16,
   "id": "db9d0e21",
   "metadata": {},
   "outputs": [],
   "source": [
    "# Change decimal places for Profit Percent of Sales column to 2 decimal places\n",
    "\n",
    "df_sales_modified['Profit as a Percent of Sales'] = df_sales_modified['Profit as a Percent of Sales'].round(2)\n"
   ]
  },
  {
   "cell_type": "code",
   "execution_count": 17,
   "id": "c1aa16f6",
   "metadata": {},
   "outputs": [],
   "source": [
    "# Change the Discount column into percentage\n",
    "\n",
    "df_sales_modified['Discount'] = (df_sales_modified['Discount']*100)"
   ]
  },
  {
   "cell_type": "markdown",
   "id": "dbd64402",
   "metadata": {},
   "source": [
    "## Data Transformation "
   ]
  },
  {
   "cell_type": "code",
   "execution_count": 18,
   "id": "b140dcb5",
   "metadata": {},
   "outputs": [],
   "source": [
    "# Creating Discount Group Column\n",
    "\n",
    "df_sales_modified['Discount Group'] = df_sales_modified['Discount'].apply(\n",
    "                                        lambda x: \"0%-3%\" if 0<=x<3 else \"3%-6%\" if 3<=x<6 else \"6%-9%\" if 6<=x<9 else \n",
    "                                                \"9%-12%\" if 9<=x<12 else \"12%-15%\")"
   ]
  },
  {
   "cell_type": "code",
   "execution_count": 19,
   "id": "42efc381",
   "metadata": {},
   "outputs": [
    {
     "data": {
      "text/plain": [
       "array(['0%-3%', '9%-12%', '6%-9%', '12%-15%', '3%-6%'], dtype=object)"
      ]
     },
     "execution_count": 19,
     "metadata": {},
     "output_type": "execute_result"
    }
   ],
   "source": [
    "df_sales_modified['Discount Group'].unique()"
   ]
  },
  {
   "cell_type": "code",
   "execution_count": 20,
   "id": "949f7395",
   "metadata": {},
   "outputs": [
    {
     "data": {
      "text/plain": [
       "0        120\n",
       "1        123\n",
       "2        116\n",
       "3        128\n",
       "4         16\n",
       "        ... \n",
       "28355      3\n",
       "28356      3\n",
       "28357      3\n",
       "28358      3\n",
       "28359      3\n",
       "Name: Delivery Period, Length: 28360, dtype: int64"
      ]
     },
     "execution_count": 20,
     "metadata": {},
     "output_type": "execute_result"
    }
   ],
   "source": [
    "# Creating Delivery Period \n",
    "\n",
    "df_sales_modified['Delivery Period'] = (df_sales_modified['Delivery Date'] - df_sales_modified['Order Date']).dt.days\n",
    "df_sales_modified['Delivery Period']"
   ]
  },
  {
   "cell_type": "code",
   "execution_count": 21,
   "id": "fe147fc0",
   "metadata": {},
   "outputs": [
    {
     "data": {
      "text/plain": [
       "array([120, 123, 116, 128,  16,  14,  17,  15,  13, 125, 126, 132, 121,\n",
       "        26,  24,  27,  23,  25,  95, 127, 118, 117, 135, 113,  22, 130,\n",
       "        18, 133,  97, 100, 124, 119, 129,  28, 115, 134, 131,  92, 122,\n",
       "       111,  85, 112, 138,  89,  94, 114,  90,  93, 105,   6,   7, 102,\n",
       "        99,  96, 106,   5,   4,   8,   2,   3,  11,  12,   1,  10,   9,\n",
       "        19], dtype=int64)"
      ]
     },
     "execution_count": 21,
     "metadata": {},
     "output_type": "execute_result"
    }
   ],
   "source": [
    "df_sales_modified['Delivery Period'].unique()"
   ]
  },
  {
   "cell_type": "code",
   "execution_count": 22,
   "id": "30f0c8ca",
   "metadata": {},
   "outputs": [
    {
     "data": {
      "text/plain": [
       "0        Very Slow\n",
       "1        Very Slow\n",
       "2             Slow\n",
       "3        Very Slow\n",
       "4             Fast\n",
       "           ...    \n",
       "28355         Fast\n",
       "28356         Fast\n",
       "28357         Fast\n",
       "28358         Fast\n",
       "28359         Fast\n",
       "Name: Delivery Remarks, Length: 28360, dtype: object"
      ]
     },
     "execution_count": 22,
     "metadata": {},
     "output_type": "execute_result"
    }
   ],
   "source": [
    "# Creating Delivery Remarks based on defined set rule\n",
    "\n",
    "df_sales_modified['Delivery Remarks'] = df_sales_modified['Delivery Period'].apply(\n",
    "                                        lambda x: \"Fast\" if 0<=x<30 else \"Slow\" if 30<=x<120 else \"Very Slow\")\n",
    "df_sales_modified['Delivery Remarks']"
   ]
  },
  {
   "cell_type": "code",
   "execution_count": 23,
   "id": "da542c39",
   "metadata": {},
   "outputs": [],
   "source": [
    "# Rename column Profit as a Percent of Sales to Profit Percentage\n",
    "\n",
    "df_sales_modified = df_sales_modified.rename(columns={'Profit as a Percent of Sales': 'Profit Percentage'})"
   ]
  },
  {
   "cell_type": "code",
   "execution_count": 24,
   "id": "d23143bd",
   "metadata": {},
   "outputs": [
    {
     "name": "stdout",
     "output_type": "stream",
     "text": [
      "<class 'pandas.core.frame.DataFrame'>\n",
      "RangeIndex: 28360 entries, 0 to 28359\n",
      "Data columns (total 22 columns):\n",
      " #   Column             Non-Null Count  Dtype         \n",
      "---  ------             --------------  -----         \n",
      " 0   Record No          28360 non-null  int64         \n",
      " 1   Order Id           28360 non-null  int64         \n",
      " 2   Name               28360 non-null  object        \n",
      " 3   State              28360 non-null  object        \n",
      " 4   Region             28360 non-null  object        \n",
      " 5   Sales Total        28360 non-null  int64         \n",
      " 6   Gross Profit       28360 non-null  float64       \n",
      " 7   Discount           28360 non-null  float64       \n",
      " 8   Business Unit      28360 non-null  object        \n",
      " 9   Product Group      28360 non-null  object        \n",
      " 10  Product Line       28360 non-null  object        \n",
      " 11  Product            28360 non-null  object        \n",
      " 12  Order Priority     28360 non-null  object        \n",
      " 13  Order Date         28360 non-null  datetime64[ns]\n",
      " 14  Delivery Date      28360 non-null  datetime64[ns]\n",
      " 15  Ship Container     28360 non-null  object        \n",
      " 16  Market Segment     28360 non-null  object        \n",
      " 17  Shipping Method    28360 non-null  object        \n",
      " 18  Profit Percentage  28360 non-null  float64       \n",
      " 19  Discount Group     28360 non-null  object        \n",
      " 20  Delivery Period    28360 non-null  int64         \n",
      " 21  Delivery Remarks   28360 non-null  object        \n",
      "dtypes: datetime64[ns](2), float64(3), int64(4), object(13)\n",
      "memory usage: 4.8+ MB\n"
     ]
    }
   ],
   "source": [
    "df_sales_modified.info()"
   ]
  },
  {
   "cell_type": "markdown",
   "id": "1a7d8c55",
   "metadata": {},
   "source": [
    "# Create new dataset from the original dataset"
   ]
  },
  {
   "cell_type": "code",
   "execution_count": 25,
   "id": "2eadc39b",
   "metadata": {},
   "outputs": [],
   "source": [
    "# Let split the dataset into two dataset for easier analyzing\n",
    "\n",
    "new_dataset = ['Name', 'State', 'Region', 'Market Segment']\n",
    "\n",
    "df_sales_product = df_sales_modified.drop(columns=new_dataset, axis=1)\n",
    "df_sales_customer = df_sales_modified[['Order Id', 'Name', 'State', 'Region', 'Market Segment']]"
   ]
  },
  {
   "cell_type": "code",
   "execution_count": 26,
   "id": "5048e405",
   "metadata": {
    "scrolled": true
   },
   "outputs": [
    {
     "data": {
      "text/html": [
       "<div>\n",
       "<style scoped>\n",
       "    .dataframe tbody tr th:only-of-type {\n",
       "        vertical-align: middle;\n",
       "    }\n",
       "\n",
       "    .dataframe tbody tr th {\n",
       "        vertical-align: top;\n",
       "    }\n",
       "\n",
       "    .dataframe thead th {\n",
       "        text-align: right;\n",
       "    }\n",
       "</style>\n",
       "<table border=\"1\" class=\"dataframe\">\n",
       "  <thead>\n",
       "    <tr style=\"text-align: right;\">\n",
       "      <th></th>\n",
       "      <th>Record No</th>\n",
       "      <th>Order Id</th>\n",
       "      <th>Sales Total</th>\n",
       "      <th>Gross Profit</th>\n",
       "      <th>Discount</th>\n",
       "      <th>Business Unit</th>\n",
       "      <th>Product Group</th>\n",
       "      <th>Product Line</th>\n",
       "      <th>Product</th>\n",
       "      <th>Order Priority</th>\n",
       "      <th>Order Date</th>\n",
       "      <th>Delivery Date</th>\n",
       "      <th>Ship Container</th>\n",
       "      <th>Shipping Method</th>\n",
       "      <th>Profit Percentage</th>\n",
       "      <th>Discount Group</th>\n",
       "      <th>Delivery Period</th>\n",
       "      <th>Delivery Remarks</th>\n",
       "    </tr>\n",
       "  </thead>\n",
       "  <tbody>\n",
       "    <tr>\n",
       "      <th>0</th>\n",
       "      <td>1</td>\n",
       "      <td>10000</td>\n",
       "      <td>2302</td>\n",
       "      <td>1067.59</td>\n",
       "      <td>0.0</td>\n",
       "      <td>Technology</td>\n",
       "      <td>Computer Peripherals</td>\n",
       "      <td>Keyboards</td>\n",
       "      <td>Logitech Cordless Access Duo</td>\n",
       "      <td>Low</td>\n",
       "      <td>2008-01-01</td>\n",
       "      <td>2008-04-30</td>\n",
       "      <td>Small Box</td>\n",
       "      <td>Regular Air</td>\n",
       "      <td>0.45</td>\n",
       "      <td>0%-3%</td>\n",
       "      <td>120</td>\n",
       "      <td>Very Slow</td>\n",
       "    </tr>\n",
       "    <tr>\n",
       "      <th>1</th>\n",
       "      <td>2</td>\n",
       "      <td>10000</td>\n",
       "      <td>997</td>\n",
       "      <td>358.35</td>\n",
       "      <td>10.0</td>\n",
       "      <td>Technology</td>\n",
       "      <td>Computer Peripherals</td>\n",
       "      <td>Modems</td>\n",
       "      <td>Motorola Sb4200 Cable Modem</td>\n",
       "      <td>Low</td>\n",
       "      <td>2008-01-01</td>\n",
       "      <td>2008-05-03</td>\n",
       "      <td>Small Box</td>\n",
       "      <td>Express Air</td>\n",
       "      <td>0.39</td>\n",
       "      <td>9%-12%</td>\n",
       "      <td>123</td>\n",
       "      <td>Very Slow</td>\n",
       "    </tr>\n",
       "  </tbody>\n",
       "</table>\n",
       "</div>"
      ],
      "text/plain": [
       "   Record No  Order Id  Sales Total  Gross Profit  Discount Business Unit  \\\n",
       "0          1     10000         2302       1067.59       0.0    Technology   \n",
       "1          2     10000          997        358.35      10.0    Technology   \n",
       "\n",
       "          Product Group Product Line                       Product  \\\n",
       "0  Computer Peripherals    Keyboards  Logitech Cordless Access Duo   \n",
       "1  Computer Peripherals       Modems   Motorola Sb4200 Cable Modem   \n",
       "\n",
       "  Order Priority Order Date Delivery Date Ship Container Shipping Method  \\\n",
       "0            Low 2008-01-01    2008-04-30      Small Box     Regular Air   \n",
       "1            Low 2008-01-01    2008-05-03      Small Box     Express Air   \n",
       "\n",
       "   Profit Percentage Discount Group  Delivery Period Delivery Remarks  \n",
       "0               0.45          0%-3%              120        Very Slow  \n",
       "1               0.39         9%-12%              123        Very Slow  "
      ]
     },
     "execution_count": 26,
     "metadata": {},
     "output_type": "execute_result"
    }
   ],
   "source": [
    "df_sales_product.head(2)"
   ]
  },
  {
   "cell_type": "code",
   "execution_count": 27,
   "id": "464231ef",
   "metadata": {},
   "outputs": [],
   "source": [
    "df_sales_customer = df_sales_customer.drop_duplicates().reset_index().drop(columns='index')"
   ]
  },
  {
   "cell_type": "code",
   "execution_count": 28,
   "id": "3a0db707",
   "metadata": {},
   "outputs": [
    {
     "data": {
      "text/html": [
       "<div>\n",
       "<style scoped>\n",
       "    .dataframe tbody tr th:only-of-type {\n",
       "        vertical-align: middle;\n",
       "    }\n",
       "\n",
       "    .dataframe tbody tr th {\n",
       "        vertical-align: top;\n",
       "    }\n",
       "\n",
       "    .dataframe thead th {\n",
       "        text-align: right;\n",
       "    }\n",
       "</style>\n",
       "<table border=\"1\" class=\"dataframe\">\n",
       "  <thead>\n",
       "    <tr style=\"text-align: right;\">\n",
       "      <th></th>\n",
       "      <th>Order Id</th>\n",
       "      <th>Name</th>\n",
       "      <th>State</th>\n",
       "      <th>Region</th>\n",
       "      <th>Market Segment</th>\n",
       "    </tr>\n",
       "  </thead>\n",
       "  <tbody>\n",
       "    <tr>\n",
       "      <th>0</th>\n",
       "      <td>10000</td>\n",
       "      <td>Gilberto Matrejek</td>\n",
       "      <td>Mississippi</td>\n",
       "      <td>E S Cen</td>\n",
       "      <td>Home Office</td>\n",
       "    </tr>\n",
       "    <tr>\n",
       "      <th>1</th>\n",
       "      <td>10001</td>\n",
       "      <td>Caleb Weinbauer</td>\n",
       "      <td>Connecticut</td>\n",
       "      <td>N Eng</td>\n",
       "      <td>Corporate</td>\n",
       "    </tr>\n",
       "  </tbody>\n",
       "</table>\n",
       "</div>"
      ],
      "text/plain": [
       "   Order Id               Name        State   Region Market Segment\n",
       "0     10000  Gilberto Matrejek  Mississippi  E S Cen    Home Office\n",
       "1     10001    Caleb Weinbauer  Connecticut    N Eng      Corporate"
      ]
     },
     "execution_count": 28,
     "metadata": {},
     "output_type": "execute_result"
    }
   ],
   "source": [
    "df_sales_customer.head(2)"
   ]
  },
  {
   "cell_type": "code",
   "execution_count": 29,
   "id": "96cb71d6",
   "metadata": {},
   "outputs": [],
   "source": [
    "# Rearranging both dataframe columns so it can be exported as tables for BI tool analyzation\n",
    "\n",
    "rearrange_product = ['Record No','Order Id', 'Business Unit', 'Product Group', 'Product Line', 'Product', 'Discount', \n",
    "                     'Discount Group', 'Sales Total', 'Gross Profit', 'Profit Percentage', 'Order Date', 'Delivery Date', \n",
    "                     \"Delivery Period\", 'Delivery Remarks', 'Order Priority', 'Ship Container', 'Shipping Method']"
   ]
  },
  {
   "cell_type": "code",
   "execution_count": 30,
   "id": "d9cbe58d",
   "metadata": {},
   "outputs": [
    {
     "data": {
      "text/html": [
       "<div>\n",
       "<style scoped>\n",
       "    .dataframe tbody tr th:only-of-type {\n",
       "        vertical-align: middle;\n",
       "    }\n",
       "\n",
       "    .dataframe tbody tr th {\n",
       "        vertical-align: top;\n",
       "    }\n",
       "\n",
       "    .dataframe thead th {\n",
       "        text-align: right;\n",
       "    }\n",
       "</style>\n",
       "<table border=\"1\" class=\"dataframe\">\n",
       "  <thead>\n",
       "    <tr style=\"text-align: right;\">\n",
       "      <th></th>\n",
       "      <th>Record No</th>\n",
       "      <th>Order Id</th>\n",
       "      <th>Business Unit</th>\n",
       "      <th>Product Group</th>\n",
       "      <th>Product Line</th>\n",
       "      <th>Product</th>\n",
       "      <th>Discount</th>\n",
       "      <th>Discount Group</th>\n",
       "      <th>Sales Total</th>\n",
       "      <th>Gross Profit</th>\n",
       "      <th>Profit Percentage</th>\n",
       "      <th>Order Date</th>\n",
       "      <th>Delivery Date</th>\n",
       "      <th>Delivery Period</th>\n",
       "      <th>Delivery Remarks</th>\n",
       "      <th>Order Priority</th>\n",
       "      <th>Ship Container</th>\n",
       "      <th>Shipping Method</th>\n",
       "    </tr>\n",
       "  </thead>\n",
       "  <tbody>\n",
       "    <tr>\n",
       "      <th>0</th>\n",
       "      <td>1</td>\n",
       "      <td>10000</td>\n",
       "      <td>Technology</td>\n",
       "      <td>Computer Peripherals</td>\n",
       "      <td>Keyboards</td>\n",
       "      <td>Logitech Cordless Access Duo</td>\n",
       "      <td>0.0</td>\n",
       "      <td>0%-3%</td>\n",
       "      <td>2302</td>\n",
       "      <td>1067.59</td>\n",
       "      <td>0.45</td>\n",
       "      <td>2008-01-01</td>\n",
       "      <td>2008-04-30</td>\n",
       "      <td>120</td>\n",
       "      <td>Very Slow</td>\n",
       "      <td>Low</td>\n",
       "      <td>Small Box</td>\n",
       "      <td>Regular Air</td>\n",
       "    </tr>\n",
       "    <tr>\n",
       "      <th>1</th>\n",
       "      <td>2</td>\n",
       "      <td>10000</td>\n",
       "      <td>Technology</td>\n",
       "      <td>Computer Peripherals</td>\n",
       "      <td>Modems</td>\n",
       "      <td>Motorola Sb4200 Cable Modem</td>\n",
       "      <td>10.0</td>\n",
       "      <td>9%-12%</td>\n",
       "      <td>997</td>\n",
       "      <td>358.35</td>\n",
       "      <td>0.39</td>\n",
       "      <td>2008-01-01</td>\n",
       "      <td>2008-05-03</td>\n",
       "      <td>123</td>\n",
       "      <td>Very Slow</td>\n",
       "      <td>Low</td>\n",
       "      <td>Small Box</td>\n",
       "      <td>Express Air</td>\n",
       "    </tr>\n",
       "  </tbody>\n",
       "</table>\n",
       "</div>"
      ],
      "text/plain": [
       "   Record No  Order Id Business Unit         Product Group Product Line  \\\n",
       "0          1     10000    Technology  Computer Peripherals    Keyboards   \n",
       "1          2     10000    Technology  Computer Peripherals       Modems   \n",
       "\n",
       "                        Product  Discount Discount Group  Sales Total  \\\n",
       "0  Logitech Cordless Access Duo       0.0          0%-3%         2302   \n",
       "1   Motorola Sb4200 Cable Modem      10.0         9%-12%          997   \n",
       "\n",
       "   Gross Profit  Profit Percentage Order Date Delivery Date  Delivery Period  \\\n",
       "0       1067.59               0.45 2008-01-01    2008-04-30              120   \n",
       "1        358.35               0.39 2008-01-01    2008-05-03              123   \n",
       "\n",
       "  Delivery Remarks Order Priority Ship Container Shipping Method  \n",
       "0        Very Slow            Low      Small Box     Regular Air  \n",
       "1        Very Slow            Low      Small Box     Express Air  "
      ]
     },
     "execution_count": 30,
     "metadata": {},
     "output_type": "execute_result"
    }
   ],
   "source": [
    "df_sales_product = df_sales_product[rearrange_product]\n",
    "df_sales_product.head(2)"
   ]
  },
  {
   "cell_type": "code",
   "execution_count": 31,
   "id": "8f6e6f9f",
   "metadata": {},
   "outputs": [
    {
     "data": {
      "text/html": [
       "<div>\n",
       "<style scoped>\n",
       "    .dataframe tbody tr th:only-of-type {\n",
       "        vertical-align: middle;\n",
       "    }\n",
       "\n",
       "    .dataframe tbody tr th {\n",
       "        vertical-align: top;\n",
       "    }\n",
       "\n",
       "    .dataframe thead th {\n",
       "        text-align: right;\n",
       "    }\n",
       "</style>\n",
       "<table border=\"1\" class=\"dataframe\">\n",
       "  <thead>\n",
       "    <tr style=\"text-align: right;\">\n",
       "      <th></th>\n",
       "      <th>Record No</th>\n",
       "      <th>Order Id</th>\n",
       "      <th>Business Unit</th>\n",
       "      <th>Product Group</th>\n",
       "      <th>Product Line</th>\n",
       "      <th>Product</th>\n",
       "      <th>Discount</th>\n",
       "      <th>Discount Group</th>\n",
       "      <th>Sales Total</th>\n",
       "      <th>Gross Profit</th>\n",
       "      <th>Profit Percentage</th>\n",
       "      <th>Order Date</th>\n",
       "      <th>Delivery Date</th>\n",
       "      <th>Delivery Period</th>\n",
       "      <th>Delivery Remarks</th>\n",
       "      <th>Order Priority</th>\n",
       "      <th>Ship Container</th>\n",
       "      <th>Shipping Method</th>\n",
       "    </tr>\n",
       "  </thead>\n",
       "  <tbody>\n",
       "    <tr>\n",
       "      <th>28358</th>\n",
       "      <td>28359</td>\n",
       "      <td>43565</td>\n",
       "      <td>Furniture</td>\n",
       "      <td>Chairs &amp; Chairmats</td>\n",
       "      <td>Office Chairs</td>\n",
       "      <td>Safco Folding Chair Trolley</td>\n",
       "      <td>12.0</td>\n",
       "      <td>12%-15%</td>\n",
       "      <td>5084</td>\n",
       "      <td>1482.81</td>\n",
       "      <td>0.32</td>\n",
       "      <td>2011-12-28</td>\n",
       "      <td>2011-12-31</td>\n",
       "      <td>3</td>\n",
       "      <td>Fast</td>\n",
       "      <td>Unspecified</td>\n",
       "      <td>Medium Box</td>\n",
       "      <td>Regular Air</td>\n",
       "    </tr>\n",
       "    <tr>\n",
       "      <th>28359</th>\n",
       "      <td>28360</td>\n",
       "      <td>43565</td>\n",
       "      <td>Technology</td>\n",
       "      <td>Computer Peripherals</td>\n",
       "      <td>Media</td>\n",
       "      <td>Tdk 4.7Gb Dvd+Rw</td>\n",
       "      <td>2.0</td>\n",
       "      <td>0%-3%</td>\n",
       "      <td>277</td>\n",
       "      <td>104.38</td>\n",
       "      <td>0.38</td>\n",
       "      <td>2011-12-28</td>\n",
       "      <td>2011-12-31</td>\n",
       "      <td>3</td>\n",
       "      <td>Fast</td>\n",
       "      <td>Unspecified</td>\n",
       "      <td>Small Pack</td>\n",
       "      <td>Regular Air</td>\n",
       "    </tr>\n",
       "  </tbody>\n",
       "</table>\n",
       "</div>"
      ],
      "text/plain": [
       "       Record No  Order Id Business Unit         Product Group   Product Line  \\\n",
       "28358      28359     43565     Furniture    Chairs & Chairmats  Office Chairs   \n",
       "28359      28360     43565    Technology  Computer Peripherals          Media   \n",
       "\n",
       "                           Product  Discount Discount Group  Sales Total  \\\n",
       "28358  Safco Folding Chair Trolley      12.0        12%-15%         5084   \n",
       "28359             Tdk 4.7Gb Dvd+Rw       2.0          0%-3%          277   \n",
       "\n",
       "       Gross Profit  Profit Percentage Order Date Delivery Date  \\\n",
       "28358       1482.81               0.32 2011-12-28    2011-12-31   \n",
       "28359        104.38               0.38 2011-12-28    2011-12-31   \n",
       "\n",
       "       Delivery Period Delivery Remarks Order Priority Ship Container  \\\n",
       "28358                3             Fast    Unspecified     Medium Box   \n",
       "28359                3             Fast    Unspecified     Small Pack   \n",
       "\n",
       "      Shipping Method  \n",
       "28358     Regular Air  \n",
       "28359     Regular Air  "
      ]
     },
     "execution_count": 31,
     "metadata": {},
     "output_type": "execute_result"
    }
   ],
   "source": [
    "df_sales_product.tail(2)"
   ]
  },
  {
   "cell_type": "code",
   "execution_count": 32,
   "id": "e9c15b5d",
   "metadata": {},
   "outputs": [
    {
     "data": {
      "text/html": [
       "<div>\n",
       "<style scoped>\n",
       "    .dataframe tbody tr th:only-of-type {\n",
       "        vertical-align: middle;\n",
       "    }\n",
       "\n",
       "    .dataframe tbody tr th {\n",
       "        vertical-align: top;\n",
       "    }\n",
       "\n",
       "    .dataframe thead th {\n",
       "        text-align: right;\n",
       "    }\n",
       "</style>\n",
       "<table border=\"1\" class=\"dataframe\">\n",
       "  <thead>\n",
       "    <tr style=\"text-align: right;\">\n",
       "      <th></th>\n",
       "      <th>Order Id</th>\n",
       "      <th>Name</th>\n",
       "      <th>Market Segment</th>\n",
       "      <th>State</th>\n",
       "      <th>Region</th>\n",
       "    </tr>\n",
       "  </thead>\n",
       "  <tbody>\n",
       "    <tr>\n",
       "      <th>0</th>\n",
       "      <td>10000</td>\n",
       "      <td>Gilberto Matrejek</td>\n",
       "      <td>Home Office</td>\n",
       "      <td>Mississippi</td>\n",
       "      <td>E S Cen</td>\n",
       "    </tr>\n",
       "    <tr>\n",
       "      <th>1</th>\n",
       "      <td>10001</td>\n",
       "      <td>Caleb Weinbauer</td>\n",
       "      <td>Corporate</td>\n",
       "      <td>Connecticut</td>\n",
       "      <td>N Eng</td>\n",
       "    </tr>\n",
       "  </tbody>\n",
       "</table>\n",
       "</div>"
      ],
      "text/plain": [
       "   Order Id               Name Market Segment        State   Region\n",
       "0     10000  Gilberto Matrejek    Home Office  Mississippi  E S Cen\n",
       "1     10001    Caleb Weinbauer      Corporate  Connecticut    N Eng"
      ]
     },
     "execution_count": 32,
     "metadata": {},
     "output_type": "execute_result"
    }
   ],
   "source": [
    "df_sales_customer = df_sales_customer[['Order Id', 'Name', 'Market Segment', 'State', 'Region']]\n",
    "df_sales_customer.head(2)"
   ]
  },
  {
   "cell_type": "code",
   "execution_count": 33,
   "id": "479dd66c",
   "metadata": {},
   "outputs": [
    {
     "name": "stdout",
     "output_type": "stream",
     "text": [
      "Product Table: (28360, 18)\n",
      "Customer Table: (14264, 5)\n"
     ]
    }
   ],
   "source": [
    "# Shape of these two dataset\n",
    "\n",
    "print('Product Table:',df_sales_product.shape)\n",
    "print('Customer Table:',df_sales_customer.shape)"
   ]
  },
  {
   "cell_type": "code",
   "execution_count": 34,
   "id": "5d603e5c",
   "metadata": {},
   "outputs": [],
   "source": [
    "# Exporting the both tables to csv\n",
    "\n",
    "df_sales_product.to_csv(r'modified_dataset/Sales_product.csv', index = False)\n",
    "df_sales_customer.to_csv(r'modified_dataset/Sales_customer.csv', index = False)"
   ]
  }
 ],
 "metadata": {
  "kernelspec": {
   "display_name": "Python 3",
   "language": "python",
   "name": "python3"
  },
  "language_info": {
   "codemirror_mode": {
    "name": "ipython",
    "version": 3
   },
   "file_extension": ".py",
   "mimetype": "text/x-python",
   "name": "python",
   "nbconvert_exporter": "python",
   "pygments_lexer": "ipython3",
   "version": "3.8.8"
  }
 },
 "nbformat": 4,
 "nbformat_minor": 5
}
